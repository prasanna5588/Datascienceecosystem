{
 "cells": [
  {
   "cell_type": "markdown",
   "id": "6db4e367",
   "metadata": {},
   "source": [
    "<H1>Data Science Tools and Ecosystem"
   ]
  },
  {
   "cell_type": "markdown",
   "id": "ba59c276",
   "metadata": {},
   "source": [
    "In this notebook, we will explore some popular tools that are commonly used in the data science ecosystem. These tools may include integrated development environments (IDEs), data visualization tools, version control systems, databases, and machine learning frameworks. Familiarizing oneself with these tools can greatly enhance the productivity and efficiency of data science workflows, allowing data scientists to effectively extract insights and make informed decisions from data."
   ]
  },
  {
   "cell_type": "markdown",
   "id": "4d89794f",
   "metadata": {},
   "source": [
    "Some of the popular languages that Data Scientists use are:\n",
    "<ol>\n",
    "<li>Python</li>\n",
    "<li>R</li>\n",
    "<li>Julia</li>\n",
    "<li>SAS</li>\n",
    "<li>Scala</li>\n",
    "</ol>"
   ]
  },
  {
   "cell_type": "markdown",
   "id": "ddf858ec",
   "metadata": {},
   "source": [
    "Some of the commonly used libraries used by Data Scientists include:\n",
    "\n",
    "<ol>\n",
    "<li>NumPy</li>\n",
    "<li>Pandas</li>\n",
    "<li>Matplotlib</li>\n",
    "<li>Seaborn</li>\n",
    "<li>Scikit-learn</li>\n",
    "<li>TensorFlow</li>\n",
    "<li>Keras</li>\n",
    "</ol>"
   ]
  },
  {
   "cell_type": "code",
   "execution_count": 11,
   "id": "6bd7e7e4",
   "metadata": {},
   "outputs": [
    {
     "name": "stdout",
     "output_type": "stream",
     "text": [
      "| Data Science Tools  ||Jupyter Notebook||RStudio|| VSCode |\n"
     ]
    }
   ],
   "source": [
    "table = \"| Data Science Tools  |\" \"|Jupyter Notebook|\" \"|RStudio|\" \"| VSCode |\"\n",
    "\n",
    "print(table)\n"
   ]
  },
  {
   "cell_type": "markdown",
   "id": "e882a959",
   "metadata": {},
   "source": [
    "<H3>Below are a few examples of evaluating arithmetic expressions in Python."
   ]
  },
  {
   "cell_type": "code",
   "execution_count": 4,
   "id": "d7182e6d",
   "metadata": {},
   "outputs": [
    {
     "name": "stdout",
     "output_type": "stream",
     "text": [
      "Result: 17\n"
     ]
    }
   ],
   "source": [
    "# This is a simple arithmetic expression to multiply then add integers\n",
    "result = (3 * 4) + 5\n",
    "print(\"Result:\", result)"
   ]
  },
  {
   "cell_type": "code",
   "execution_count": 5,
   "id": "a90e862a",
   "metadata": {},
   "outputs": [
    {
     "name": "stdout",
     "output_type": "stream",
     "text": [
      "Hours: 3.3333333333333335\n"
     ]
    }
   ],
   "source": [
    "# This will convert 200 minutes to hours by dividing by 60\n",
    "minutes = 200\n",
    "hours = minutes / 60\n",
    "print(\"Hours:\", hours)"
   ]
  },
  {
   "cell_type": "markdown",
   "id": "f6cb113a",
   "metadata": {},
   "source": [
    "<H3>Objecives:\n",
    "\n",
    "<li>Python</li>\n",
    "<li>R</li>\n",
    "<li>Julia</li>\n",
    "<li>SAS</li>\n",
    "<li>Scala</li>\n"
   ]
  },
  {
   "cell_type": "code",
   "execution_count": 4,
   "id": "b3e877ff",
   "metadata": {},
   "outputs": [
    {
     "name": "stdout",
     "output_type": "stream",
     "text": [
      "        Lakshmi Holla         \n",
      "      Niveditha Pandith       \n",
      " Prasanna Kumar\n"
     ]
    }
   ],
   "source": [
    "\n",
    "name = \"Lakshmi Holla\"\n",
    "formatted_name = f\"{' '}{name}{' '}\".center(30)\n",
    "print(formatted_name)\n",
    "name = \"Niveditha Pandith\"\n",
    "formatted_name = f\"{' '}{name}{' '}\".center(30)\n",
    "print(formatted_name)\n",
    "\n",
    "\n",
    "\n",
    "name = \"Prasanna Kumar\"  \n",
    "\n",
    "# Print the name in regular text\n",
    "print(\" \" + name + \"\")  \n"
   ]
  },
  {
   "cell_type": "code",
   "execution_count": null,
   "id": "4733c6fb",
   "metadata": {},
   "outputs": [],
   "source": []
  }
 ],
 "metadata": {
  "kernelspec": {
   "display_name": "Python 3 (ipykernel)",
   "language": "python",
   "name": "python3"
  },
  "language_info": {
   "codemirror_mode": {
    "name": "ipython",
    "version": 3
   },
   "file_extension": ".py",
   "mimetype": "text/x-python",
   "name": "python",
   "nbconvert_exporter": "python",
   "pygments_lexer": "ipython3",
   "version": "3.9.12"
  }
 },
 "nbformat": 4,
 "nbformat_minor": 5
}
